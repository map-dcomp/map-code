{
 "cells": [
  {
   "cell_type": "code",
   "execution_count": 1,
   "metadata": {},
   "outputs": [],
   "source": [
    "import json\n",
    "import copy\n",
    "import pathlib"
   ]
  },
  {
   "cell_type": "code",
   "execution_count": 2,
   "metadata": {},
   "outputs": [],
   "source": [
    "# this needs to be modified for the topology being used\n",
    "clientPools = ['clientPoolA', 'clientPoolB', 'clientPoolC']\n",
    "default_node_for_services = 'serverX'\n",
    "default_node_for_services_region = 'X'\n",
    "\n",
    "path_to_scenario = pathlib.Path('../src/test/resources/ns2/multinode-lan_ms-trace/')\n",
    "path_to_trace_data = pathlib.Path('../src/test/resources/ms_trace/subscriber_id/')\n",
    "\n",
    "input_demand_filename = path_to_trace_data / 'demand/clientPoolA.json'\n",
    "\n",
    "demand_output = path_to_scenario / 'trace-data_spread-clients'\n",
    "demand_output.mkdir(parents=True, exist_ok=True)"
   ]
  },
  {
   "cell_type": "code",
   "execution_count": 3,
   "metadata": {},
   "outputs": [],
   "source": [
    "# load the raw demand\n",
    "with open(input_demand_filename) as f:\n",
    "    raw_demand = json.load(f)"
   ]
  },
  {
   "cell_type": "code",
   "execution_count": 5,
   "metadata": {},
   "outputs": [
    {
     "data": {
      "text/plain": [
       "{'/QYaJTboNn4+BvBkGKTu4pnx4FTpPndls+BBzPuuboX3rr47gaLGhTL7aU7FW5yq': 'service-1',\n",
       " '0fpsy/yA9AWhH80hAXtBONOsZ8+groab/oS/Dzmu1OjUL/keqhlPzHwd+meDkaqX': 'service-2',\n",
       " '4z3+UUhL6wdvdn87+W68GWASquHG2O03ZuFpK/mrn13Afv+VvF8re/AAaANakM5i': 'service-0',\n",
       " 'EGcWi04tipE9bKu8mMea9qQyQxXMH2i51C907ohmNx9vCB1JEw9n8m2ks9rpUr1Z': 'service-4',\n",
       " 'GlHFHm4e5v3aCiiUJdiKFmdrrRhhDQ62E7V9VN0sznI03Af+D/MpaeLEyTDXE6fR': 'service-9',\n",
       " 'GxkpL8GbUueQE+B/rs8IQId/TF9/JvwaIWuJGFhqEu0BMdXDWzo1GbOGiunD8IAM': 'service-7',\n",
       " 'MdkYmOa+MyxtoUE5FsCkLby6jbATcdbCOiRWSyQ2jg+tw9ph0QGNGE8IGcp0Mi69': 'service-5',\n",
       " 'Mx0wcxMu0M7IsF2hDBuyx0ZyL6Ve+GZKw1n0WWkzs/dPUViIj8YBF6CSYenuWLDa': 'service-3',\n",
       " 'Vk6v+yWTWaNURSYcSqbEs8RgjH6GFPQT71mh7IOs3tWOGX8v+mN35Aoc+cosB2Id': 'service-6',\n",
       " 'i1uAr/UhnV6UaQWYl3wDKVMV/xWcBd6eKGpaK1WnX1yjL+F8K8YgJ11EC9H7/PrE': 'service-8'}"
      ]
     },
     "execution_count": 5,
     "metadata": {},
     "output_type": "execute_result"
    }
   ],
   "source": [
    "# create new service names\n",
    "\n",
    "service_names = dict()\n",
    "new_demand = copy.deepcopy(raw_demand)\n",
    "for d in new_demand:\n",
    "    service = d['service']\n",
    "    service_artifact = service['artifact']\n",
    "    if service_artifact not in service_names:\n",
    "        name = \"service-{}\".format(len(service_names))\n",
    "        service_names[service_artifact] = name\n",
    "    else:\n",
    "        name = service_names[service_artifact]\n",
    "        \n",
    "    # add CPU load equal to TASK_CONTAINERS load\n",
    "    d['nodeLoad']['CPU'] = d['nodeLoad']['TASK_CONTAINERS']\n",
    "        \n",
    "    service['artifact'] = name\n",
    "service_names"
   ]
  },
  {
   "cell_type": "code",
   "execution_count": 6,
   "metadata": {},
   "outputs": [],
   "source": [
    "# spread client demand across all of the client pools\n",
    "client_demand = dict()\n",
    "\n",
    "for idx, d in enumerate(new_demand):\n",
    "    clientIdx = idx % len(clientPools)\n",
    "    client = clientPools[clientIdx]\n",
    "    if client not in client_demand:\n",
    "        client_demand[client] = list()\n",
    "    client_demand[client].append(d)\n",
    "\n",
    "for client, clientDemand in client_demand.items():\n",
    "    filename = demand_output / \"{}.json\".format(client)\n",
    "    with open(filename, 'w') as f:\n",
    "        json.dump(clientDemand, f, sort_keys=True, indent=4)"
   ]
  },
  {
   "cell_type": "code",
   "execution_count": 18,
   "metadata": {},
   "outputs": [
    {
     "data": {
      "text/plain": [
       "[{'computeCapacity': {'TASK_CONTAINERS': '1'},\n",
       "  'defaultNode': 'serverX',\n",
       "  'defaultNodeRegion': 'X',\n",
       "  'hostname': 'service-0',\n",
       "  'initialInstances': '1',\n",
       "  'networkCapacity': {'DATARATE_RX': '100', 'DATARATE_TX': '100'},\n",
       "  'service': {'artifact': 'service-0', 'group': 'com.bbn', 'version': '1'}},\n",
       " {'computeCapacity': {'TASK_CONTAINERS': '1'},\n",
       "  'defaultNode': 'serverX',\n",
       "  'defaultNodeRegion': 'X',\n",
       "  'hostname': 'service-1',\n",
       "  'initialInstances': '1',\n",
       "  'networkCapacity': {'DATARATE_RX': '100', 'DATARATE_TX': '100'},\n",
       "  'service': {'artifact': 'service-1', 'group': 'com.bbn', 'version': '1'}},\n",
       " {'computeCapacity': {'TASK_CONTAINERS': '1'},\n",
       "  'defaultNode': 'serverX',\n",
       "  'defaultNodeRegion': 'X',\n",
       "  'hostname': 'service-2',\n",
       "  'initialInstances': '1',\n",
       "  'networkCapacity': {'DATARATE_RX': '100', 'DATARATE_TX': '100'},\n",
       "  'service': {'artifact': 'service-2', 'group': 'com.bbn', 'version': '1'}},\n",
       " {'computeCapacity': {'TASK_CONTAINERS': '1'},\n",
       "  'defaultNode': 'serverX',\n",
       "  'defaultNodeRegion': 'X',\n",
       "  'hostname': 'service-3',\n",
       "  'initialInstances': '1',\n",
       "  'networkCapacity': {'DATARATE_RX': '100', 'DATARATE_TX': '100'},\n",
       "  'service': {'artifact': 'service-3', 'group': 'com.bbn', 'version': '1'}},\n",
       " {'computeCapacity': {'TASK_CONTAINERS': '1'},\n",
       "  'defaultNode': 'serverX',\n",
       "  'defaultNodeRegion': 'X',\n",
       "  'hostname': 'service-4',\n",
       "  'initialInstances': '1',\n",
       "  'networkCapacity': {'DATARATE_RX': '100', 'DATARATE_TX': '100'},\n",
       "  'service': {'artifact': 'service-4', 'group': 'com.bbn', 'version': '1'}},\n",
       " {'computeCapacity': {'TASK_CONTAINERS': '1'},\n",
       "  'defaultNode': 'serverX',\n",
       "  'defaultNodeRegion': 'X',\n",
       "  'hostname': 'service-5',\n",
       "  'initialInstances': '1',\n",
       "  'networkCapacity': {'DATARATE_RX': '100', 'DATARATE_TX': '100'},\n",
       "  'service': {'artifact': 'service-5', 'group': 'com.bbn', 'version': '1'}},\n",
       " {'computeCapacity': {'TASK_CONTAINERS': '1'},\n",
       "  'defaultNode': 'serverX',\n",
       "  'defaultNodeRegion': 'X',\n",
       "  'hostname': 'service-6',\n",
       "  'initialInstances': '1',\n",
       "  'networkCapacity': {'DATARATE_RX': '100', 'DATARATE_TX': '100'},\n",
       "  'service': {'artifact': 'service-6', 'group': 'com.bbn', 'version': '1'}},\n",
       " {'computeCapacity': {'TASK_CONTAINERS': '1'},\n",
       "  'defaultNode': 'serverX',\n",
       "  'defaultNodeRegion': 'X',\n",
       "  'hostname': 'service-7',\n",
       "  'initialInstances': '1',\n",
       "  'networkCapacity': {'DATARATE_RX': '100', 'DATARATE_TX': '100'},\n",
       "  'service': {'artifact': 'service-7', 'group': 'com.bbn', 'version': '1'}},\n",
       " {'computeCapacity': {'TASK_CONTAINERS': '1'},\n",
       "  'defaultNode': 'serverX',\n",
       "  'defaultNodeRegion': 'X',\n",
       "  'hostname': 'service-8',\n",
       "  'initialInstances': '1',\n",
       "  'networkCapacity': {'DATARATE_RX': '100', 'DATARATE_TX': '100'},\n",
       "  'service': {'artifact': 'service-8', 'group': 'com.bbn', 'version': '1'}},\n",
       " {'computeCapacity': {'TASK_CONTAINERS': '1'},\n",
       "  'defaultNode': 'serverX',\n",
       "  'defaultNodeRegion': 'X',\n",
       "  'hostname': 'service-9',\n",
       "  'initialInstances': '1',\n",
       "  'networkCapacity': {'DATARATE_RX': '100', 'DATARATE_TX': '100'},\n",
       "  'service': {'artifact': 'service-9', 'group': 'com.bbn', 'version': '1'}}]"
      ]
     },
     "execution_count": 18,
     "metadata": {},
     "output_type": "execute_result"
    }
   ],
   "source": [
    "# create updated service configurations\n",
    "\n",
    "service_configs = list()\n",
    "for raw, name in service_names.items():\n",
    "    service = dict()\n",
    "    service['service'] = {'group': 'com.bbn', 'artifact': name, 'version': '1'}\n",
    "    service['hostname'] = name\n",
    "    service['defaultNode'] = default_node_for_services\n",
    "    service['defaultNodeRegion'] = default_node_for_services_region\n",
    "    service['initialInstances'] = '1'\n",
    "    service['computeCapacity'] = {\"TASK_CONTAINERS\" : \"1\"}\n",
    "    service[\"networkCapacity\"] =  {\n",
    "      \"DATARATE_TX\": \"100\",\n",
    "      \"DATARATE_RX\": \"100\"\n",
    "    }\n",
    "    service_configs.append(service)\n",
    "service_configs"
   ]
  },
  {
   "cell_type": "code",
   "execution_count": 19,
   "metadata": {},
   "outputs": [],
   "source": [
    "with open(path_to_scenario / 'service-configurations.json', 'w') as f:\n",
    "    json.dump(service_configs, f, sort_keys=True, indent=4)"
   ]
  },
  {
   "cell_type": "code",
   "execution_count": null,
   "metadata": {},
   "outputs": [],
   "source": []
  }
 ],
 "metadata": {
  "kernelspec": {
   "display_name": "Python 3",
   "language": "python",
   "name": "python3"
  },
  "language_info": {
   "codemirror_mode": {
    "name": "ipython",
    "version": 3
   },
   "file_extension": ".py",
   "mimetype": "text/x-python",
   "name": "python",
   "nbconvert_exporter": "python",
   "pygments_lexer": "ipython3",
   "version": "3.6.6"
  }
 },
 "nbformat": 4,
 "nbformat_minor": 2
}
